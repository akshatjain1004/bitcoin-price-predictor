{
  "nbformat": 4,
  "nbformat_minor": 0,
  "metadata": {
    "colab": {
      "name": "Bitcoin.ipynb",
      "provenance": []
    },
    "kernelspec": {
      "name": "python3",
      "display_name": "Python 3"
    },
    "language_info": {
      "name": "python"
    }
  },
  "cells": [
    {
      "cell_type": "code",
      "execution_count": 28,
      "metadata": {
        "colab": {
          "base_uri": "https://localhost:8080/"
        },
        "id": "9jeuY5UAC0as",
        "outputId": "3e187595-5ee8-43fc-aa99-8c3c050c6bc2"
      },
      "outputs": [
        {
          "output_type": "stream",
          "name": "stdout",
          "text": [
            "Drive already mounted at /content/drive; to attempt to forcibly remount, call drive.mount(\"/content/drive\", force_remount=True).\n"
          ]
        }
      ],
      "source": [
        "import pandas as pd\n",
        "import numpy as np\n",
        "from google.colab import drive\n",
        "drive.mount('/content/drive')\n",
        "import matplotlib.pyplot as plt "
      ]
    },
    {
      "cell_type": "code",
      "source": [
        "df= pd.read_csv('/content/drive/MyDrive/bitcoin.csv')\n",
        "df"
      ],
      "metadata": {
        "colab": {
          "base_uri": "https://localhost:8080/",
          "height": 424
        },
        "id": "em0Nr2r4DOCb",
        "outputId": "3ef71428-4093-4561-c662-b978ec535ddb"
      },
      "execution_count": 29,
      "outputs": [
        {
          "output_type": "execute_result",
          "data": {
            "text/plain": [
              "              Date     Open     High      Low    Close         Volume  \\\n",
              "0     Jul 31, 2017  2763.24  2889.62  2720.61  2875.34    860,575,000   \n",
              "1     Jul 30, 2017  2724.39  2758.53  2644.85  2757.18    705,943,000   \n",
              "2     Jul 29, 2017  2807.02  2808.76  2692.80  2726.45    803,746,000   \n",
              "3     Jul 28, 2017  2679.73  2897.45  2679.73  2809.01  1,380,100,000   \n",
              "4     Jul 27, 2017  2538.71  2693.32  2529.34  2671.78    789,104,000   \n",
              "...            ...      ...      ...      ...      ...            ...   \n",
              "1551  May 02, 2013   116.38   125.60    92.28   105.21              -   \n",
              "1552  May 01, 2013   139.00   139.89   107.72   116.99              -   \n",
              "1553  Apr 30, 2013   144.00   146.93   134.05   139.00              -   \n",
              "1554  Apr 29, 2013   134.44   147.49   134.00   144.54              -   \n",
              "1555  Apr 28, 2013   135.30   135.98   132.10   134.21              -   \n",
              "\n",
              "          Market Cap  \n",
              "0     45,535,800,000  \n",
              "1     44,890,700,000  \n",
              "2     46,246,700,000  \n",
              "3     44,144,400,000  \n",
              "4     41,816,500,000  \n",
              "...              ...  \n",
              "1551   1,292,190,000  \n",
              "1552   1,542,820,000  \n",
              "1553   1,597,780,000  \n",
              "1554   1,491,160,000  \n",
              "1555   1,500,520,000  \n",
              "\n",
              "[1556 rows x 7 columns]"
            ],
            "text/html": [
              "\n",
              "  <div id=\"df-02572e12-8deb-405b-b0c0-25fc613e36fc\">\n",
              "    <div class=\"colab-df-container\">\n",
              "      <div>\n",
              "<style scoped>\n",
              "    .dataframe tbody tr th:only-of-type {\n",
              "        vertical-align: middle;\n",
              "    }\n",
              "\n",
              "    .dataframe tbody tr th {\n",
              "        vertical-align: top;\n",
              "    }\n",
              "\n",
              "    .dataframe thead th {\n",
              "        text-align: right;\n",
              "    }\n",
              "</style>\n",
              "<table border=\"1\" class=\"dataframe\">\n",
              "  <thead>\n",
              "    <tr style=\"text-align: right;\">\n",
              "      <th></th>\n",
              "      <th>Date</th>\n",
              "      <th>Open</th>\n",
              "      <th>High</th>\n",
              "      <th>Low</th>\n",
              "      <th>Close</th>\n",
              "      <th>Volume</th>\n",
              "      <th>Market Cap</th>\n",
              "    </tr>\n",
              "  </thead>\n",
              "  <tbody>\n",
              "    <tr>\n",
              "      <th>0</th>\n",
              "      <td>Jul 31, 2017</td>\n",
              "      <td>2763.24</td>\n",
              "      <td>2889.62</td>\n",
              "      <td>2720.61</td>\n",
              "      <td>2875.34</td>\n",
              "      <td>860,575,000</td>\n",
              "      <td>45,535,800,000</td>\n",
              "    </tr>\n",
              "    <tr>\n",
              "      <th>1</th>\n",
              "      <td>Jul 30, 2017</td>\n",
              "      <td>2724.39</td>\n",
              "      <td>2758.53</td>\n",
              "      <td>2644.85</td>\n",
              "      <td>2757.18</td>\n",
              "      <td>705,943,000</td>\n",
              "      <td>44,890,700,000</td>\n",
              "    </tr>\n",
              "    <tr>\n",
              "      <th>2</th>\n",
              "      <td>Jul 29, 2017</td>\n",
              "      <td>2807.02</td>\n",
              "      <td>2808.76</td>\n",
              "      <td>2692.80</td>\n",
              "      <td>2726.45</td>\n",
              "      <td>803,746,000</td>\n",
              "      <td>46,246,700,000</td>\n",
              "    </tr>\n",
              "    <tr>\n",
              "      <th>3</th>\n",
              "      <td>Jul 28, 2017</td>\n",
              "      <td>2679.73</td>\n",
              "      <td>2897.45</td>\n",
              "      <td>2679.73</td>\n",
              "      <td>2809.01</td>\n",
              "      <td>1,380,100,000</td>\n",
              "      <td>44,144,400,000</td>\n",
              "    </tr>\n",
              "    <tr>\n",
              "      <th>4</th>\n",
              "      <td>Jul 27, 2017</td>\n",
              "      <td>2538.71</td>\n",
              "      <td>2693.32</td>\n",
              "      <td>2529.34</td>\n",
              "      <td>2671.78</td>\n",
              "      <td>789,104,000</td>\n",
              "      <td>41,816,500,000</td>\n",
              "    </tr>\n",
              "    <tr>\n",
              "      <th>...</th>\n",
              "      <td>...</td>\n",
              "      <td>...</td>\n",
              "      <td>...</td>\n",
              "      <td>...</td>\n",
              "      <td>...</td>\n",
              "      <td>...</td>\n",
              "      <td>...</td>\n",
              "    </tr>\n",
              "    <tr>\n",
              "      <th>1551</th>\n",
              "      <td>May 02, 2013</td>\n",
              "      <td>116.38</td>\n",
              "      <td>125.60</td>\n",
              "      <td>92.28</td>\n",
              "      <td>105.21</td>\n",
              "      <td>-</td>\n",
              "      <td>1,292,190,000</td>\n",
              "    </tr>\n",
              "    <tr>\n",
              "      <th>1552</th>\n",
              "      <td>May 01, 2013</td>\n",
              "      <td>139.00</td>\n",
              "      <td>139.89</td>\n",
              "      <td>107.72</td>\n",
              "      <td>116.99</td>\n",
              "      <td>-</td>\n",
              "      <td>1,542,820,000</td>\n",
              "    </tr>\n",
              "    <tr>\n",
              "      <th>1553</th>\n",
              "      <td>Apr 30, 2013</td>\n",
              "      <td>144.00</td>\n",
              "      <td>146.93</td>\n",
              "      <td>134.05</td>\n",
              "      <td>139.00</td>\n",
              "      <td>-</td>\n",
              "      <td>1,597,780,000</td>\n",
              "    </tr>\n",
              "    <tr>\n",
              "      <th>1554</th>\n",
              "      <td>Apr 29, 2013</td>\n",
              "      <td>134.44</td>\n",
              "      <td>147.49</td>\n",
              "      <td>134.00</td>\n",
              "      <td>144.54</td>\n",
              "      <td>-</td>\n",
              "      <td>1,491,160,000</td>\n",
              "    </tr>\n",
              "    <tr>\n",
              "      <th>1555</th>\n",
              "      <td>Apr 28, 2013</td>\n",
              "      <td>135.30</td>\n",
              "      <td>135.98</td>\n",
              "      <td>132.10</td>\n",
              "      <td>134.21</td>\n",
              "      <td>-</td>\n",
              "      <td>1,500,520,000</td>\n",
              "    </tr>\n",
              "  </tbody>\n",
              "</table>\n",
              "<p>1556 rows × 7 columns</p>\n",
              "</div>\n",
              "      <button class=\"colab-df-convert\" onclick=\"convertToInteractive('df-02572e12-8deb-405b-b0c0-25fc613e36fc')\"\n",
              "              title=\"Convert this dataframe to an interactive table.\"\n",
              "              style=\"display:none;\">\n",
              "        \n",
              "  <svg xmlns=\"http://www.w3.org/2000/svg\" height=\"24px\"viewBox=\"0 0 24 24\"\n",
              "       width=\"24px\">\n",
              "    <path d=\"M0 0h24v24H0V0z\" fill=\"none\"/>\n",
              "    <path d=\"M18.56 5.44l.94 2.06.94-2.06 2.06-.94-2.06-.94-.94-2.06-.94 2.06-2.06.94zm-11 1L8.5 8.5l.94-2.06 2.06-.94-2.06-.94L8.5 2.5l-.94 2.06-2.06.94zm10 10l.94 2.06.94-2.06 2.06-.94-2.06-.94-.94-2.06-.94 2.06-2.06.94z\"/><path d=\"M17.41 7.96l-1.37-1.37c-.4-.4-.92-.59-1.43-.59-.52 0-1.04.2-1.43.59L10.3 9.45l-7.72 7.72c-.78.78-.78 2.05 0 2.83L4 21.41c.39.39.9.59 1.41.59.51 0 1.02-.2 1.41-.59l7.78-7.78 2.81-2.81c.8-.78.8-2.07 0-2.86zM5.41 20L4 18.59l7.72-7.72 1.47 1.35L5.41 20z\"/>\n",
              "  </svg>\n",
              "      </button>\n",
              "      \n",
              "  <style>\n",
              "    .colab-df-container {\n",
              "      display:flex;\n",
              "      flex-wrap:wrap;\n",
              "      gap: 12px;\n",
              "    }\n",
              "\n",
              "    .colab-df-convert {\n",
              "      background-color: #E8F0FE;\n",
              "      border: none;\n",
              "      border-radius: 50%;\n",
              "      cursor: pointer;\n",
              "      display: none;\n",
              "      fill: #1967D2;\n",
              "      height: 32px;\n",
              "      padding: 0 0 0 0;\n",
              "      width: 32px;\n",
              "    }\n",
              "\n",
              "    .colab-df-convert:hover {\n",
              "      background-color: #E2EBFA;\n",
              "      box-shadow: 0px 1px 2px rgba(60, 64, 67, 0.3), 0px 1px 3px 1px rgba(60, 64, 67, 0.15);\n",
              "      fill: #174EA6;\n",
              "    }\n",
              "\n",
              "    [theme=dark] .colab-df-convert {\n",
              "      background-color: #3B4455;\n",
              "      fill: #D2E3FC;\n",
              "    }\n",
              "\n",
              "    [theme=dark] .colab-df-convert:hover {\n",
              "      background-color: #434B5C;\n",
              "      box-shadow: 0px 1px 3px 1px rgba(0, 0, 0, 0.15);\n",
              "      filter: drop-shadow(0px 1px 2px rgba(0, 0, 0, 0.3));\n",
              "      fill: #FFFFFF;\n",
              "    }\n",
              "  </style>\n",
              "\n",
              "      <script>\n",
              "        const buttonEl =\n",
              "          document.querySelector('#df-02572e12-8deb-405b-b0c0-25fc613e36fc button.colab-df-convert');\n",
              "        buttonEl.style.display =\n",
              "          google.colab.kernel.accessAllowed ? 'block' : 'none';\n",
              "\n",
              "        async function convertToInteractive(key) {\n",
              "          const element = document.querySelector('#df-02572e12-8deb-405b-b0c0-25fc613e36fc');\n",
              "          const dataTable =\n",
              "            await google.colab.kernel.invokeFunction('convertToInteractive',\n",
              "                                                     [key], {});\n",
              "          if (!dataTable) return;\n",
              "\n",
              "          const docLinkHtml = 'Like what you see? Visit the ' +\n",
              "            '<a target=\"_blank\" href=https://colab.research.google.com/notebooks/data_table.ipynb>data table notebook</a>'\n",
              "            + ' to learn more about interactive tables.';\n",
              "          element.innerHTML = '';\n",
              "          dataTable['output_type'] = 'display_data';\n",
              "          await google.colab.output.renderOutput(dataTable, element);\n",
              "          const docLink = document.createElement('div');\n",
              "          docLink.innerHTML = docLinkHtml;\n",
              "          element.appendChild(docLink);\n",
              "        }\n",
              "      </script>\n",
              "    </div>\n",
              "  </div>\n",
              "  "
            ]
          },
          "metadata": {},
          "execution_count": 29
        }
      ]
    },
    {
      "cell_type": "code",
      "source": [
        "date= df['Date']"
      ],
      "metadata": {
        "id": "eGKmv6heDk0J"
      },
      "execution_count": 30,
      "outputs": []
    },
    {
      "cell_type": "code",
      "source": [
        "df1= df[::-1]\n",
        "df1"
      ],
      "metadata": {
        "colab": {
          "base_uri": "https://localhost:8080/",
          "height": 424
        },
        "id": "Dz1ML83AG9NB",
        "outputId": "e24adb1f-05e0-4d94-f24b-c8c7fe1080c8"
      },
      "execution_count": 31,
      "outputs": [
        {
          "output_type": "execute_result",
          "data": {
            "text/plain": [
              "              Date     Open     High      Low    Close         Volume  \\\n",
              "1555  Apr 28, 2013   135.30   135.98   132.10   134.21              -   \n",
              "1554  Apr 29, 2013   134.44   147.49   134.00   144.54              -   \n",
              "1553  Apr 30, 2013   144.00   146.93   134.05   139.00              -   \n",
              "1552  May 01, 2013   139.00   139.89   107.72   116.99              -   \n",
              "1551  May 02, 2013   116.38   125.60    92.28   105.21              -   \n",
              "...            ...      ...      ...      ...      ...            ...   \n",
              "4     Jul 27, 2017  2538.71  2693.32  2529.34  2671.78    789,104,000   \n",
              "3     Jul 28, 2017  2679.73  2897.45  2679.73  2809.01  1,380,100,000   \n",
              "2     Jul 29, 2017  2807.02  2808.76  2692.80  2726.45    803,746,000   \n",
              "1     Jul 30, 2017  2724.39  2758.53  2644.85  2757.18    705,943,000   \n",
              "0     Jul 31, 2017  2763.24  2889.62  2720.61  2875.34    860,575,000   \n",
              "\n",
              "          Market Cap  \n",
              "1555   1,500,520,000  \n",
              "1554   1,491,160,000  \n",
              "1553   1,597,780,000  \n",
              "1552   1,542,820,000  \n",
              "1551   1,292,190,000  \n",
              "...              ...  \n",
              "4     41,816,500,000  \n",
              "3     44,144,400,000  \n",
              "2     46,246,700,000  \n",
              "1     44,890,700,000  \n",
              "0     45,535,800,000  \n",
              "\n",
              "[1556 rows x 7 columns]"
            ],
            "text/html": [
              "\n",
              "  <div id=\"df-4ebce244-aab9-487a-9fc9-5100fee257e1\">\n",
              "    <div class=\"colab-df-container\">\n",
              "      <div>\n",
              "<style scoped>\n",
              "    .dataframe tbody tr th:only-of-type {\n",
              "        vertical-align: middle;\n",
              "    }\n",
              "\n",
              "    .dataframe tbody tr th {\n",
              "        vertical-align: top;\n",
              "    }\n",
              "\n",
              "    .dataframe thead th {\n",
              "        text-align: right;\n",
              "    }\n",
              "</style>\n",
              "<table border=\"1\" class=\"dataframe\">\n",
              "  <thead>\n",
              "    <tr style=\"text-align: right;\">\n",
              "      <th></th>\n",
              "      <th>Date</th>\n",
              "      <th>Open</th>\n",
              "      <th>High</th>\n",
              "      <th>Low</th>\n",
              "      <th>Close</th>\n",
              "      <th>Volume</th>\n",
              "      <th>Market Cap</th>\n",
              "    </tr>\n",
              "  </thead>\n",
              "  <tbody>\n",
              "    <tr>\n",
              "      <th>1555</th>\n",
              "      <td>Apr 28, 2013</td>\n",
              "      <td>135.30</td>\n",
              "      <td>135.98</td>\n",
              "      <td>132.10</td>\n",
              "      <td>134.21</td>\n",
              "      <td>-</td>\n",
              "      <td>1,500,520,000</td>\n",
              "    </tr>\n",
              "    <tr>\n",
              "      <th>1554</th>\n",
              "      <td>Apr 29, 2013</td>\n",
              "      <td>134.44</td>\n",
              "      <td>147.49</td>\n",
              "      <td>134.00</td>\n",
              "      <td>144.54</td>\n",
              "      <td>-</td>\n",
              "      <td>1,491,160,000</td>\n",
              "    </tr>\n",
              "    <tr>\n",
              "      <th>1553</th>\n",
              "      <td>Apr 30, 2013</td>\n",
              "      <td>144.00</td>\n",
              "      <td>146.93</td>\n",
              "      <td>134.05</td>\n",
              "      <td>139.00</td>\n",
              "      <td>-</td>\n",
              "      <td>1,597,780,000</td>\n",
              "    </tr>\n",
              "    <tr>\n",
              "      <th>1552</th>\n",
              "      <td>May 01, 2013</td>\n",
              "      <td>139.00</td>\n",
              "      <td>139.89</td>\n",
              "      <td>107.72</td>\n",
              "      <td>116.99</td>\n",
              "      <td>-</td>\n",
              "      <td>1,542,820,000</td>\n",
              "    </tr>\n",
              "    <tr>\n",
              "      <th>1551</th>\n",
              "      <td>May 02, 2013</td>\n",
              "      <td>116.38</td>\n",
              "      <td>125.60</td>\n",
              "      <td>92.28</td>\n",
              "      <td>105.21</td>\n",
              "      <td>-</td>\n",
              "      <td>1,292,190,000</td>\n",
              "    </tr>\n",
              "    <tr>\n",
              "      <th>...</th>\n",
              "      <td>...</td>\n",
              "      <td>...</td>\n",
              "      <td>...</td>\n",
              "      <td>...</td>\n",
              "      <td>...</td>\n",
              "      <td>...</td>\n",
              "      <td>...</td>\n",
              "    </tr>\n",
              "    <tr>\n",
              "      <th>4</th>\n",
              "      <td>Jul 27, 2017</td>\n",
              "      <td>2538.71</td>\n",
              "      <td>2693.32</td>\n",
              "      <td>2529.34</td>\n",
              "      <td>2671.78</td>\n",
              "      <td>789,104,000</td>\n",
              "      <td>41,816,500,000</td>\n",
              "    </tr>\n",
              "    <tr>\n",
              "      <th>3</th>\n",
              "      <td>Jul 28, 2017</td>\n",
              "      <td>2679.73</td>\n",
              "      <td>2897.45</td>\n",
              "      <td>2679.73</td>\n",
              "      <td>2809.01</td>\n",
              "      <td>1,380,100,000</td>\n",
              "      <td>44,144,400,000</td>\n",
              "    </tr>\n",
              "    <tr>\n",
              "      <th>2</th>\n",
              "      <td>Jul 29, 2017</td>\n",
              "      <td>2807.02</td>\n",
              "      <td>2808.76</td>\n",
              "      <td>2692.80</td>\n",
              "      <td>2726.45</td>\n",
              "      <td>803,746,000</td>\n",
              "      <td>46,246,700,000</td>\n",
              "    </tr>\n",
              "    <tr>\n",
              "      <th>1</th>\n",
              "      <td>Jul 30, 2017</td>\n",
              "      <td>2724.39</td>\n",
              "      <td>2758.53</td>\n",
              "      <td>2644.85</td>\n",
              "      <td>2757.18</td>\n",
              "      <td>705,943,000</td>\n",
              "      <td>44,890,700,000</td>\n",
              "    </tr>\n",
              "    <tr>\n",
              "      <th>0</th>\n",
              "      <td>Jul 31, 2017</td>\n",
              "      <td>2763.24</td>\n",
              "      <td>2889.62</td>\n",
              "      <td>2720.61</td>\n",
              "      <td>2875.34</td>\n",
              "      <td>860,575,000</td>\n",
              "      <td>45,535,800,000</td>\n",
              "    </tr>\n",
              "  </tbody>\n",
              "</table>\n",
              "<p>1556 rows × 7 columns</p>\n",
              "</div>\n",
              "      <button class=\"colab-df-convert\" onclick=\"convertToInteractive('df-4ebce244-aab9-487a-9fc9-5100fee257e1')\"\n",
              "              title=\"Convert this dataframe to an interactive table.\"\n",
              "              style=\"display:none;\">\n",
              "        \n",
              "  <svg xmlns=\"http://www.w3.org/2000/svg\" height=\"24px\"viewBox=\"0 0 24 24\"\n",
              "       width=\"24px\">\n",
              "    <path d=\"M0 0h24v24H0V0z\" fill=\"none\"/>\n",
              "    <path d=\"M18.56 5.44l.94 2.06.94-2.06 2.06-.94-2.06-.94-.94-2.06-.94 2.06-2.06.94zm-11 1L8.5 8.5l.94-2.06 2.06-.94-2.06-.94L8.5 2.5l-.94 2.06-2.06.94zm10 10l.94 2.06.94-2.06 2.06-.94-2.06-.94-.94-2.06-.94 2.06-2.06.94z\"/><path d=\"M17.41 7.96l-1.37-1.37c-.4-.4-.92-.59-1.43-.59-.52 0-1.04.2-1.43.59L10.3 9.45l-7.72 7.72c-.78.78-.78 2.05 0 2.83L4 21.41c.39.39.9.59 1.41.59.51 0 1.02-.2 1.41-.59l7.78-7.78 2.81-2.81c.8-.78.8-2.07 0-2.86zM5.41 20L4 18.59l7.72-7.72 1.47 1.35L5.41 20z\"/>\n",
              "  </svg>\n",
              "      </button>\n",
              "      \n",
              "  <style>\n",
              "    .colab-df-container {\n",
              "      display:flex;\n",
              "      flex-wrap:wrap;\n",
              "      gap: 12px;\n",
              "    }\n",
              "\n",
              "    .colab-df-convert {\n",
              "      background-color: #E8F0FE;\n",
              "      border: none;\n",
              "      border-radius: 50%;\n",
              "      cursor: pointer;\n",
              "      display: none;\n",
              "      fill: #1967D2;\n",
              "      height: 32px;\n",
              "      padding: 0 0 0 0;\n",
              "      width: 32px;\n",
              "    }\n",
              "\n",
              "    .colab-df-convert:hover {\n",
              "      background-color: #E2EBFA;\n",
              "      box-shadow: 0px 1px 2px rgba(60, 64, 67, 0.3), 0px 1px 3px 1px rgba(60, 64, 67, 0.15);\n",
              "      fill: #174EA6;\n",
              "    }\n",
              "\n",
              "    [theme=dark] .colab-df-convert {\n",
              "      background-color: #3B4455;\n",
              "      fill: #D2E3FC;\n",
              "    }\n",
              "\n",
              "    [theme=dark] .colab-df-convert:hover {\n",
              "      background-color: #434B5C;\n",
              "      box-shadow: 0px 1px 3px 1px rgba(0, 0, 0, 0.15);\n",
              "      filter: drop-shadow(0px 1px 2px rgba(0, 0, 0, 0.3));\n",
              "      fill: #FFFFFF;\n",
              "    }\n",
              "  </style>\n",
              "\n",
              "      <script>\n",
              "        const buttonEl =\n",
              "          document.querySelector('#df-4ebce244-aab9-487a-9fc9-5100fee257e1 button.colab-df-convert');\n",
              "        buttonEl.style.display =\n",
              "          google.colab.kernel.accessAllowed ? 'block' : 'none';\n",
              "\n",
              "        async function convertToInteractive(key) {\n",
              "          const element = document.querySelector('#df-4ebce244-aab9-487a-9fc9-5100fee257e1');\n",
              "          const dataTable =\n",
              "            await google.colab.kernel.invokeFunction('convertToInteractive',\n",
              "                                                     [key], {});\n",
              "          if (!dataTable) return;\n",
              "\n",
              "          const docLinkHtml = 'Like what you see? Visit the ' +\n",
              "            '<a target=\"_blank\" href=https://colab.research.google.com/notebooks/data_table.ipynb>data table notebook</a>'\n",
              "            + ' to learn more about interactive tables.';\n",
              "          element.innerHTML = '';\n",
              "          dataTable['output_type'] = 'display_data';\n",
              "          await google.colab.output.renderOutput(dataTable, element);\n",
              "          const docLink = document.createElement('div');\n",
              "          docLink.innerHTML = docLinkHtml;\n",
              "          element.appendChild(docLink);\n",
              "        }\n",
              "      </script>\n",
              "    </div>\n",
              "  </div>\n",
              "  "
            ]
          },
          "metadata": {},
          "execution_count": 31
        }
      ]
    },
    {
      "cell_type": "markdown",
      "source": [
        "## **Data Analysis**"
      ],
      "metadata": {
        "id": "Upqp2psbFoCR"
      }
    },
    {
      "cell_type": "code",
      "source": [
        "import seaborn as sns; sns.set()\n",
        "# sns.lineplot(x=\"Date\", y=\"Close\", data=df)\n",
        "sns.lineplot(x=df1[\"Date\"][1000:], y=df1[\"Close\"][1000:])"
      ],
      "metadata": {
        "colab": {
          "base_uri": "https://localhost:8080/",
          "height": 302
        },
        "id": "gAf4ODSKF0Cs",
        "outputId": "a0e31d90-5b1e-4e82-c19d-9a281af6ad52"
      },
      "execution_count": 32,
      "outputs": [
        {
          "output_type": "execute_result",
          "data": {
            "text/plain": [
              "<matplotlib.axes._subplots.AxesSubplot at 0x7ff7d020ffd0>"
            ]
          },
          "metadata": {},
          "execution_count": 32
        },
        {
          "output_type": "display_data",
          "data": {
            "text/plain": [
              "<Figure size 432x288 with 1 Axes>"
            ],
            "image/png": "[encoded data removed]"
          },
          "metadata": {}
        }
      ]
    },
    {
      "cell_type": "code",
      "source": [
        "sns.lineplot(x=df1[\"Date\"][1000:], y=df1[\"Open\"][1000:])"
      ],
      "metadata": {
        "colab": {
          "base_uri": "https://localhost:8080/",
          "height": 302
        },
        "id": "06rOdbTBQmpm",
        "outputId": "287bfd13-11e7-4cab-ee06-5c3d7b48f3d1"
      },
      "execution_count": 33,
      "outputs": [
        {
          "output_type": "execute_result",
          "data": {
            "text/plain": [
              "<matplotlib.axes._subplots.AxesSubplot at 0x7ff7cfdd7c50>"
            ]
          },
          "metadata": {},
          "execution_count": 33
        },
        {
          "output_type": "display_data",
          "data": {
            "text/plain": [
              "<Figure size 432x288 with 1 Axes>"
            ],
            "image/png": "[encoded data removed]"
          },
          "metadata": {}
        }
      ]
    },
    {
      "cell_type": "code",
      "source": [
        "sns.lineplot(x=df1[\"Date\"][1000:], y=df1['Close'][1000:])"
      ],
      "metadata": {
        "colab": {
          "base_uri": "https://localhost:8080/",
          "height": 302
        },
        "id": "E2qBXZB_Q6PU",
        "outputId": "a7f9cc0b-dc47-4bf3-8992-d0c135506d8e"
      },
      "execution_count": 34,
      "outputs": [
        {
          "output_type": "execute_result",
          "data": {
            "text/plain": [
              "<matplotlib.axes._subplots.AxesSubplot at 0x7ff7cf643b90>"
            ]
          },
          "metadata": {},
          "execution_count": 34
        },
        {
          "output_type": "display_data",
          "data": {
            "text/plain": [
              "<Figure size 432x288 with 1 Axes>"
            ],
            "image/png": "[encoded data removed]"
          },
          "metadata": {}
        }
      ]
    },
    {
      "cell_type": "code",
      "source": [
        "import matplotlib.pyplot as plt\n",
        "\n",
        "plt.scatter(df1['High'],df1['Low'])"
      ],
      "metadata": {
        "colab": {
          "base_uri": "https://localhost:8080/",
          "height": 285
        },
        "id": "qcH81ZLJSfy9",
        "outputId": "3b793616-5fb1-4596-9832-cb3af5bdcbd9"
      },
      "execution_count": 35,
      "outputs": [
        {
          "output_type": "execute_result",
          "data": {
            "text/plain": [
              "<matplotlib.collections.PathCollection at 0x7ff7cf75c190>"
            ]
          },
          "metadata": {},
          "execution_count": 35
        },
        {
          "output_type": "display_data",
          "data": {
            "text/plain": [
              "<Figure size 432x288 with 1 Axes>"
            ],
            "image/png": "[encoded data removed]"
          },
          "metadata": {}
        }
      ]
    },
    {
      "cell_type": "code",
      "source": [
        "plt.scatter(df1['High'],df1['Open'])"
      ],
      "metadata": {
        "colab": {
          "base_uri": "https://localhost:8080/",
          "height": 285
        },
        "id": "Xz21LfM7S1kC",
        "outputId": "b2adb160-bf2c-402a-c7d5-e399f6f6b7fe"
      },
      "execution_count": 36,
      "outputs": [
        {
          "output_type": "execute_result",
          "data": {
            "text/plain": [
              "<matplotlib.collections.PathCollection at 0x7ff7cf0e74d0>"
            ]
          },
          "metadata": {},
          "execution_count": 36
        },
        {
          "output_type": "display_data",
          "data": {
            "text/plain": [
              "<Figure size 432x288 with 1 Axes>"
            ],
            "image/png": "[encoded data removed]"
          },
          "metadata": {}
        }
      ]
    },
    {
      "cell_type": "code",
      "source": [
        "op=[]\n",
        "for i in range(5,len(df['Open'])):\n",
        "  op.append(df['Open'][i])\n",
        "\n",
        "plt.scatter(df['Open'][:1000],op[:1000])\n",
        "plt.plot(df['Open'],df['Open'], c='r')"
      ],
      "metadata": {
        "colab": {
          "base_uri": "https://localhost:8080/",
          "height": 285
        },
        "id": "4gvBdAvLS_1W",
        "outputId": "b09b5a4e-9f95-495b-a683-04a760497cc3"
      },
      "execution_count": 37,
      "outputs": [
        {
          "output_type": "execute_result",
          "data": {
            "text/plain": [
              "[<matplotlib.lines.Line2D at 0x7ff7cf04c190>]"
            ]
          },
          "metadata": {},
          "execution_count": 37
        },
        {
          "output_type": "display_data",
          "data": {
            "text/plain": [
              "<Figure size 432x288 with 1 Axes>"
            ],
            "image/png": "[encoded data removed]"
          },
          "metadata": {}
        }
      ]
    },
    {
      "cell_type": "code",
      "source": [
        "cl=[]\n",
        "for i in range(5,len(df['Close'])):\n",
        "  cl.append(df['Close'][i])\n",
        "\n",
        "plt.scatter(df['Close'][:1000],cl[:1000])\n",
        "plt.plot(df['Close'],df['Close'], c='r')"
      ],
      "metadata": {
        "colab": {
          "base_uri": "https://localhost:8080/",
          "height": 285
        },
        "id": "NBqSA5uhT8Kf",
        "outputId": "53d4505d-1f3f-4eb9-b4db-5f8268dba398"
      },
      "execution_count": 38,
      "outputs": [
        {
          "output_type": "execute_result",
          "data": {
            "text/plain": [
              "[<matplotlib.lines.Line2D at 0x7ff7cef37f50>]"
            ]
          },
          "metadata": {},
          "execution_count": 38
        },
        {
          "output_type": "display_data",
          "data": {
            "text/plain": [
              "<Figure size 432x288 with 1 Axes>"
            ],
            "image/png": "[encoded data removed]"
          },
          "metadata": {}
        }
      ]
    },
    {
      "cell_type": "code",
      "source": [
        "plt.figure(figsize=(16,5), dpi= 80)\n",
        "x= df['Date'][:150]\n",
        "y= df['Close'][:150]\n",
        "avg= np.mean(y)\n",
        "plt.fill_between(x[1:], y[1:], 0, where=y[1:] >= avg, facecolor='green', interpolate=True, alpha=0.7)\n",
        "plt.fill_between(x[1:], y[1:], 0, where=y[1:] <= avg, facecolor='red', interpolate=True, alpha=0.7)"
      ],
      "metadata": {
        "colab": {
          "base_uri": "https://localhost:8080/",
          "height": 375
        },
        "id": "8I6WS1E3VbxS",
        "outputId": "0b0230bc-d283-4cc2-c5c3-01b51e592fc9"
      },
      "execution_count": 39,
      "outputs": [
        {
          "output_type": "execute_result",
          "data": {
            "text/plain": [
              "<matplotlib.collections.PolyCollection at 0x7ff7cef04c90>"
            ]
          },
          "metadata": {},
          "execution_count": 39
        },
        {
          "output_type": "display_data",
          "data": {
            "text/plain": [
              "<Figure size 1280x400 with 1 Axes>"
            ],
            "image/png": "[encoded data removed]"
          },
          "metadata": {}
        }
      ]
    },
    {
      "cell_type": "code",
      "source": [
        "plt.figure(figsize=(16,5), dpi= 80)\n",
        "sns.kdeplot(df['Open'], shade=True, color=\"g\", label=\"Open\", alpha=.7)"
      ],
      "metadata": {
        "colab": {
          "base_uri": "https://localhost:8080/",
          "height": 393
        },
        "id": "ionTJswsW8Ad",
        "outputId": "b3edc7be-f964-4e32-e5fa-3951111f1547"
      },
      "execution_count": 40,
      "outputs": [
        {
          "output_type": "execute_result",
          "data": {
            "text/plain": [
              "<matplotlib.axes._subplots.AxesSubplot at 0x7ff7cf2dab90>"
            ]
          },
          "metadata": {},
          "execution_count": 40
        },
        {
          "output_type": "display_data",
          "data": {
            "text/plain": [
              "<Figure size 1280x400 with 1 Axes>"
            ],
            "image/png": "[encoded data removed]"
          },
          "metadata": {}
        }
      ]
    },
    {
      "cell_type": "code",
      "source": [
        "import matplotlib as mpl\n",
        "data = df['Open'][:30].values\n",
        "doublediff = np.diff(np.sign(np.diff(data)))\n",
        "peak_locations = np.where(doublediff == -2)[0] + 1\n",
        "\n",
        "doublediff2 = np.diff(np.sign(np.diff(-1*data)))\n",
        "trough_locations = np.where(doublediff2 == -2)[0] + 1\n",
        "\n",
        "plt.figure(figsize=(16,10), dpi= 80)\n",
        "plt.plot(df['Date'][:30], df['Open'][:30], color='tab:blue', label='Open Price')\n",
        "plt.scatter(df.Date[peak_locations], df.Open[peak_locations], marker=mpl.markers.CARETUPBASE, color='tab:green', s=100, label='Peaks')\n",
        "plt.scatter(df.Date[trough_locations], df.Open[trough_locations], marker=mpl.markers.CARETDOWNBASE, color='tab:red', s=100, label='Troughs')\n",
        "\n",
        "plt.gca().spines[\"top\"].set_alpha(.0)\n",
        "plt.gca().spines[\"bottom\"].set_alpha(.3)\n",
        "plt.gca().spines[\"right\"].set_alpha(.0)\n",
        "plt.gca().spines[\"left\"].set_alpha(.3)\n",
        "\n",
        "plt.legend(loc='upper left')\n",
        "plt.grid(axis='y', alpha=.3)\n",
        "plt.show()"
      ],
      "metadata": {
        "colab": {
          "base_uri": "https://localhost:8080/",
          "height": 660
        },
        "id": "5GzVZPWsYL0N",
        "outputId": "f3bb6973-5272-4ae7-e38d-e9b7e1717a4b"
      },
      "execution_count": 41,
      "outputs": [
        {
          "output_type": "display_data",
          "data": {
            "text/plain": [
              "<Figure size 1280x800 with 1 Axes>"
            ],
            "image/png": "[encoded data removed]"
          },
          "metadata": {}
        }
      ]
    },
    {
      "cell_type": "code",
      "source": [
        "from statsmodels.graphics.tsaplots import plot_acf, plot_pacf\n",
        "fig, (ax1, ax2) = plt.subplots(1, 2,figsize=(16,6), dpi= 80)\n",
        "plot_acf(df['Open'].tolist(), ax=ax1, lags=50)\n",
        "plot_pacf(df['Open'].tolist(), ax=ax2, lags=20)\n",
        "\n",
        "# Decorate\n",
        "# lighten the borders\n",
        "ax1.spines[\"top\"].set_alpha(.3); ax2.spines[\"top\"].set_alpha(.3)\n",
        "ax1.spines[\"bottom\"].set_alpha(.3); ax2.spines[\"bottom\"].set_alpha(.3)\n",
        "ax1.spines[\"right\"].set_alpha(.3); ax2.spines[\"right\"].set_alpha(.3)\n",
        "ax1.spines[\"left\"].set_alpha(.3); ax2.spines[\"left\"].set_alpha(.3)\n",
        "\n",
        "# font size of tick labels\n",
        "ax1.tick_params(axis='both', labelsize=12)\n",
        "ax2.tick_params(axis='both', labelsize=12)\n",
        "plt.show()"
      ],
      "metadata": {
        "colab": {
          "base_uri": "https://localhost:8080/",
          "height": 435
        },
        "id": "20Sz27YuUhFG",
        "outputId": "870d77dc-4824-431b-b25f-6383efa7c900"
      },
      "execution_count": 60,
      "outputs": [
        {
          "output_type": "display_data",
          "data": {
            "text/plain": [
              "<Figure size 1280x480 with 2 Axes>"
            ],
            "image/png": "[encoded data removed]"
          },
          "metadata": {}
        }
      ]
    },
    {
      "cell_type": "code",
      "source": [
        "df.info()"
      ],
      "metadata": {
        "colab": {
          "base_uri": "https://localhost:8080/"
        },
        "id": "hXWwY_Zy2ye_",
        "outputId": "7e66b279-bc62-4912-a041-b7b7cbecf183"
      },
      "execution_count": 42,
      "outputs": [
        {
          "output_type": "stream",
          "name": "stdout",
          "text": [
            "<class 'pandas.core.frame.DataFrame'>\n",
            "RangeIndex: 1556 entries, 0 to 1555\n",
            "Data columns (total 7 columns):\n",
            " #   Column      Non-Null Count  Dtype  \n",
            "---  ------      --------------  -----  \n",
            " 0   Date        1556 non-null   object \n",
            " 1   Open        1556 non-null   float64\n",
            " 2   High        1556 non-null   float64\n",
            " 3   Low         1556 non-null   float64\n",
            " 4   Close       1556 non-null   float64\n",
            " 5   Volume      1556 non-null   object \n",
            " 6   Market Cap  1556 non-null   object \n",
            "dtypes: float64(4), object(3)\n",
            "memory usage: 85.2+ KB\n"
          ]
        }
      ]
    },
    {
      "cell_type": "code",
      "source": [
        "from datetime import datetime\n",
        "def days(d1,d2):\n",
        "  date_format = \"%b %d, %Y\"\n",
        "  a = datetime.strptime(d1, date_format)\n",
        "  b = datetime.strptime(d2, date_format)\n",
        "  delta = b - a\n",
        "  return delta.days\n",
        "\n",
        "print(days('Apr 30, 2013','Jul 31, 2017'))"
      ],
      "metadata": {
        "colab": {
          "base_uri": "https://localhost:8080/"
        },
        "id": "qlO_VtM6EU_M",
        "outputId": "2f538189-a70e-4e14-e127-256748729859"
      },
      "execution_count": 43,
      "outputs": [
        {
          "output_type": "stream",
          "name": "stdout",
          "text": [
            "1553\n"
          ]
        }
      ]
    },
    {
      "cell_type": "code",
      "source": [
        "d1= \t'Jul 31, 2017'\n",
        "\n",
        "d2= 'Aug 2, 2017'\n",
        "\n",
        "num = days(d1,d2)"
      ],
      "metadata": {
        "id": "_njbE37KHZxU"
      },
      "execution_count": 44,
      "outputs": []
    },
    {
      "cell_type": "code",
      "source": [
        "if(num>0):\n",
        "  df['open_pred']= df[['Open']].shift(num)"
      ],
      "metadata": {
        "id": "W9hSUTI4KWFl"
      },
      "execution_count": 45,
      "outputs": []
    },
    {
      "cell_type": "code",
      "source": [
        "df"
      ],
      "metadata": {
        "colab": {
          "base_uri": "https://localhost:8080/",
          "height": 424
        },
        "id": "fE5aSRXALBVq",
        "outputId": "bca8a84c-8873-4880-cfc4-6cec2ef8e14c"
      },
      "execution_count": 46,
      "outputs": [
        {
          "output_type": "execute_result",
          "data": {
            "text/plain": [
              "              Date     Open     High      Low    Close         Volume  \\\n",
              "0     Jul 31, 2017  2763.24  2889.62  2720.61  2875.34    860,575,000   \n",
              "1     Jul 30, 2017  2724.39  2758.53  2644.85  2757.18    705,943,000   \n",
              "2     Jul 29, 2017  2807.02  2808.76  2692.80  2726.45    803,746,000   \n",
              "3     Jul 28, 2017  2679.73  2897.45  2679.73  2809.01  1,380,100,000   \n",
              "4     Jul 27, 2017  2538.71  2693.32  2529.34  2671.78    789,104,000   \n",
              "...            ...      ...      ...      ...      ...            ...   \n",
              "1551  May 02, 2013   116.38   125.60    92.28   105.21              -   \n",
              "1552  May 01, 2013   139.00   139.89   107.72   116.99              -   \n",
              "1553  Apr 30, 2013   144.00   146.93   134.05   139.00              -   \n",
              "1554  Apr 29, 2013   134.44   147.49   134.00   144.54              -   \n",
              "1555  Apr 28, 2013   135.30   135.98   132.10   134.21              -   \n",
              "\n",
              "          Market Cap  open_pred  \n",
              "0     45,535,800,000        NaN  \n",
              "1     44,890,700,000        NaN  \n",
              "2     46,246,700,000    2763.24  \n",
              "3     44,144,400,000    2724.39  \n",
              "4     41,816,500,000    2807.02  \n",
              "...              ...        ...  \n",
              "1551   1,292,190,000      98.10  \n",
              "1552   1,542,820,000     106.25  \n",
              "1553   1,597,780,000     116.38  \n",
              "1554   1,491,160,000     139.00  \n",
              "1555   1,500,520,000     144.00  \n",
              "\n",
              "[1556 rows x 8 columns]"
            ],
            "text/html": [
              "\n",
              "  <div id=\"df-4d0064ec-5620-45ae-8f1d-93fc41800981\">\n",
              "    <div class=\"colab-df-container\">\n",
              "      <div>\n",
              "<style scoped>\n",
              "    .dataframe tbody tr th:only-of-type {\n",
              "        vertical-align: middle;\n",
              "    }\n",
              "\n",
              "    .dataframe tbody tr th {\n",
              "        vertical-align: top;\n",
              "    }\n",
              "\n",
              "    .dataframe thead th {\n",
              "        text-align: right;\n",
              "    }\n",
              "</style>\n",
              "<table border=\"1\" class=\"dataframe\">\n",
              "  <thead>\n",
              "    <tr style=\"text-align: right;\">\n",
              "      <th></th>\n",
              "      <th>Date</th>\n",
              "      <th>Open</th>\n",
              "      <th>High</th>\n",
              "      <th>Low</th>\n",
              "      <th>Close</th>\n",
              "      <th>Volume</th>\n",
              "      <th>Market Cap</th>\n",
              "      <th>open_pred</th>\n",
              "    </tr>\n",
              "  </thead>\n",
              "  <tbody>\n",
              "    <tr>\n",
              "      <th>0</th>\n",
              "      <td>Jul 31, 2017</td>\n",
              "      <td>2763.24</td>\n",
              "      <td>2889.62</td>\n",
              "      <td>2720.61</td>\n",
              "      <td>2875.34</td>\n",
              "      <td>860,575,000</td>\n",
              "      <td>45,535,800,000</td>\n",
              "      <td>NaN</td>\n",
              "    </tr>\n",
              "    <tr>\n",
              "      <th>1</th>\n",
              "      <td>Jul 30, 2017</td>\n",
              "      <td>2724.39</td>\n",
              "      <td>2758.53</td>\n",
              "      <td>2644.85</td>\n",
              "      <td>2757.18</td>\n",
              "      <td>705,943,000</td>\n",
              "      <td>44,890,700,000</td>\n",
              "      <td>NaN</td>\n",
              "    </tr>\n",
              "    <tr>\n",
              "      <th>2</th>\n",
              "      <td>Jul 29, 2017</td>\n",
              "      <td>2807.02</td>\n",
              "      <td>2808.76</td>\n",
              "      <td>2692.80</td>\n",
              "      <td>2726.45</td>\n",
              "      <td>803,746,000</td>\n",
              "      <td>46,246,700,000</td>\n",
              "      <td>2763.24</td>\n",
              "    </tr>\n",
              "    <tr>\n",
              "      <th>3</th>\n",
              "      <td>Jul 28, 2017</td>\n",
              "      <td>2679.73</td>\n",
              "      <td>2897.45</td>\n",
              "      <td>2679.73</td>\n",
              "      <td>2809.01</td>\n",
              "      <td>1,380,100,000</td>\n",
              "      <td>44,144,400,000</td>\n",
              "      <td>2724.39</td>\n",
              "    </tr>\n",
              "    <tr>\n",
              "      <th>4</th>\n",
              "      <td>Jul 27, 2017</td>\n",
              "      <td>2538.71</td>\n",
              "      <td>2693.32</td>\n",
              "      <td>2529.34</td>\n",
              "      <td>2671.78</td>\n",
              "      <td>789,104,000</td>\n",
              "      <td>41,816,500,000</td>\n",
              "      <td>2807.02</td>\n",
              "    </tr>\n",
              "    <tr>\n",
              "      <th>...</th>\n",
              "      <td>...</td>\n",
              "      <td>...</td>\n",
              "      <td>...</td>\n",
              "      <td>...</td>\n",
              "      <td>...</td>\n",
              "      <td>...</td>\n",
              "      <td>...</td>\n",
              "      <td>...</td>\n",
              "    </tr>\n",
              "    <tr>\n",
              "      <th>1551</th>\n",
              "      <td>May 02, 2013</td>\n",
              "      <td>116.38</td>\n",
              "      <td>125.60</td>\n",
              "      <td>92.28</td>\n",
              "      <td>105.21</td>\n",
              "      <td>-</td>\n",
              "      <td>1,292,190,000</td>\n",
              "      <td>98.10</td>\n",
              "    </tr>\n",
              "    <tr>\n",
              "      <th>1552</th>\n",
              "      <td>May 01, 2013</td>\n",
              "      <td>139.00</td>\n",
              "      <td>139.89</td>\n",
              "      <td>107.72</td>\n",
              "      <td>116.99</td>\n",
              "      <td>-</td>\n",
              "      <td>1,542,820,000</td>\n",
              "      <td>106.25</td>\n",
              "    </tr>\n",
              "    <tr>\n",
              "      <th>1553</th>\n",
              "      <td>Apr 30, 2013</td>\n",
              "      <td>144.00</td>\n",
              "      <td>146.93</td>\n",
              "      <td>134.05</td>\n",
              "      <td>139.00</td>\n",
              "      <td>-</td>\n",
              "      <td>1,597,780,000</td>\n",
              "      <td>116.38</td>\n",
              "    </tr>\n",
              "    <tr>\n",
              "      <th>1554</th>\n",
              "      <td>Apr 29, 2013</td>\n",
              "      <td>134.44</td>\n",
              "      <td>147.49</td>\n",
              "      <td>134.00</td>\n",
              "      <td>144.54</td>\n",
              "      <td>-</td>\n",
              "      <td>1,491,160,000</td>\n",
              "      <td>139.00</td>\n",
              "    </tr>\n",
              "    <tr>\n",
              "      <th>1555</th>\n",
              "      <td>Apr 28, 2013</td>\n",
              "      <td>135.30</td>\n",
              "      <td>135.98</td>\n",
              "      <td>132.10</td>\n",
              "      <td>134.21</td>\n",
              "      <td>-</td>\n",
              "      <td>1,500,520,000</td>\n",
              "      <td>144.00</td>\n",
              "    </tr>\n",
              "  </tbody>\n",
              "</table>\n",
              "<p>1556 rows × 8 columns</p>\n",
              "</div>\n",
              "      <button class=\"colab-df-convert\" onclick=\"convertToInteractive('df-4d0064ec-5620-45ae-8f1d-93fc41800981')\"\n",
              "              title=\"Convert this dataframe to an interactive table.\"\n",
              "              style=\"display:none;\">\n",
              "        \n",
              "  <svg xmlns=\"http://www.w3.org/2000/svg\" height=\"24px\"viewBox=\"0 0 24 24\"\n",
              "       width=\"24px\">\n",
              "    <path d=\"M0 0h24v24H0V0z\" fill=\"none\"/>\n",
              "    <path d=\"M18.56 5.44l.94 2.06.94-2.06 2.06-.94-2.06-.94-.94-2.06-.94 2.06-2.06.94zm-11 1L8.5 8.5l.94-2.06 2.06-.94-2.06-.94L8.5 2.5l-.94 2.06-2.06.94zm10 10l.94 2.06.94-2.06 2.06-.94-2.06-.94-.94-2.06-.94 2.06-2.06.94z\"/><path d=\"M17.41 7.96l-1.37-1.37c-.4-.4-.92-.59-1.43-.59-.52 0-1.04.2-1.43.59L10.3 9.45l-7.72 7.72c-.78.78-.78 2.05 0 2.83L4 21.41c.39.39.9.59 1.41.59.51 0 1.02-.2 1.41-.59l7.78-7.78 2.81-2.81c.8-.78.8-2.07 0-2.86zM5.41 20L4 18.59l7.72-7.72 1.47 1.35L5.41 20z\"/>\n",
              "  </svg>\n",
              "      </button>\n",
              "      \n",
              "  <style>\n",
              "    .colab-df-container {\n",
              "      display:flex;\n",
              "      flex-wrap:wrap;\n",
              "      gap: 12px;\n",
              "    }\n",
              "\n",
              "    .colab-df-convert {\n",
              "      background-color: #E8F0FE;\n",
              "      border: none;\n",
              "      border-radius: 50%;\n",
              "      cursor: pointer;\n",
              "      display: none;\n",
              "      fill: #1967D2;\n",
              "      height: 32px;\n",
              "      padding: 0 0 0 0;\n",
              "      width: 32px;\n",
              "    }\n",
              "\n",
              "    .colab-df-convert:hover {\n",
              "      background-color: #E2EBFA;\n",
              "      box-shadow: 0px 1px 2px rgba(60, 64, 67, 0.3), 0px 1px 3px 1px rgba(60, 64, 67, 0.15);\n",
              "      fill: #174EA6;\n",
              "    }\n",
              "\n",
              "    [theme=dark] .colab-df-convert {\n",
              "      background-color: #3B4455;\n",
              "      fill: #D2E3FC;\n",
              "    }\n",
              "\n",
              "    [theme=dark] .colab-df-convert:hover {\n",
              "      background-color: #434B5C;\n",
              "      box-shadow: 0px 1px 3px 1px rgba(0, 0, 0, 0.15);\n",
              "      filter: drop-shadow(0px 1px 2px rgba(0, 0, 0, 0.3));\n",
              "      fill: #FFFFFF;\n",
              "    }\n",
              "  </style>\n",
              "\n",
              "      <script>\n",
              "        const buttonEl =\n",
              "          document.querySelector('#df-4d0064ec-5620-45ae-8f1d-93fc41800981 button.colab-df-convert');\n",
              "        buttonEl.style.display =\n",
              "          google.colab.kernel.accessAllowed ? 'block' : 'none';\n",
              "\n",
              "        async function convertToInteractive(key) {\n",
              "          const element = document.querySelector('#df-4d0064ec-5620-45ae-8f1d-93fc41800981');\n",
              "          const dataTable =\n",
              "            await google.colab.kernel.invokeFunction('convertToInteractive',\n",
              "                                                     [key], {});\n",
              "          if (!dataTable) return;\n",
              "\n",
              "          const docLinkHtml = 'Like what you see? Visit the ' +\n",
              "            '<a target=\"_blank\" href=https://colab.research.google.com/notebooks/data_table.ipynb>data table notebook</a>'\n",
              "            + ' to learn more about interactive tables.';\n",
              "          element.innerHTML = '';\n",
              "          dataTable['output_type'] = 'display_data';\n",
              "          await google.colab.output.renderOutput(dataTable, element);\n",
              "          const docLink = document.createElement('div');\n",
              "          docLink.innerHTML = docLinkHtml;\n",
              "          element.appendChild(docLink);\n",
              "        }\n",
              "      </script>\n",
              "    </div>\n",
              "  </div>\n",
              "  "
            ]
          },
          "metadata": {},
          "execution_count": 46
        }
      ]
    },
    {
      "cell_type": "code",
      "source": [
        "df= df.dropna()\n",
        "df"
      ],
      "metadata": {
        "colab": {
          "base_uri": "https://localhost:8080/",
          "height": 424
        },
        "id": "0eysvyyyL0si",
        "outputId": "a2c65590-d725-4936-98cd-a505e56bac86"
      },
      "execution_count": 47,
      "outputs": [
        {
          "output_type": "execute_result",
          "data": {
            "text/plain": [
              "              Date     Open     High      Low    Close         Volume  \\\n",
              "2     Jul 29, 2017  2807.02  2808.76  2692.80  2726.45    803,746,000   \n",
              "3     Jul 28, 2017  2679.73  2897.45  2679.73  2809.01  1,380,100,000   \n",
              "4     Jul 27, 2017  2538.71  2693.32  2529.34  2671.78    789,104,000   \n",
              "5     Jul 26, 2017  2577.77  2610.76  2450.80  2529.45    937,404,000   \n",
              "6     Jul 25, 2017  2757.50  2768.08  2480.96  2576.48  1,460,090,000   \n",
              "...            ...      ...      ...      ...      ...            ...   \n",
              "1551  May 02, 2013   116.38   125.60    92.28   105.21              -   \n",
              "1552  May 01, 2013   139.00   139.89   107.72   116.99              -   \n",
              "1553  Apr 30, 2013   144.00   146.93   134.05   139.00              -   \n",
              "1554  Apr 29, 2013   134.44   147.49   134.00   144.54              -   \n",
              "1555  Apr 28, 2013   135.30   135.98   132.10   134.21              -   \n",
              "\n",
              "          Market Cap  open_pred  \n",
              "2     46,246,700,000    2763.24  \n",
              "3     44,144,400,000    2724.39  \n",
              "4     41,816,500,000    2807.02  \n",
              "5     42,455,000,000    2679.73  \n",
              "6     45,410,100,000    2538.71  \n",
              "...              ...        ...  \n",
              "1551   1,292,190,000      98.10  \n",
              "1552   1,542,820,000     106.25  \n",
              "1553   1,597,780,000     116.38  \n",
              "1554   1,491,160,000     139.00  \n",
              "1555   1,500,520,000     144.00  \n",
              "\n",
              "[1554 rows x 8 columns]"
            ],
            "text/html": [
              "\n",
              "  <div id=\"df-06aedafb-b032-4c45-b6f0-af696d8d0e83\">\n",
              "    <div class=\"colab-df-container\">\n",
              "      <div>\n",
              "<style scoped>\n",
              "    .dataframe tbody tr th:only-of-type {\n",
              "        vertical-align: middle;\n",
              "    }\n",
              "\n",
              "    .dataframe tbody tr th {\n",
              "        vertical-align: top;\n",
              "    }\n",
              "\n",
              "    .dataframe thead th {\n",
              "        text-align: right;\n",
              "    }\n",
              "</style>\n",
              "<table border=\"1\" class=\"dataframe\">\n",
              "  <thead>\n",
              "    <tr style=\"text-align: right;\">\n",
              "      <th></th>\n",
              "      <th>Date</th>\n",
              "      <th>Open</th>\n",
              "      <th>High</th>\n",
              "      <th>Low</th>\n",
              "      <th>Close</th>\n",
              "      <th>Volume</th>\n",
              "      <th>Market Cap</th>\n",
              "      <th>open_pred</th>\n",
              "    </tr>\n",
              "  </thead>\n",
              "  <tbody>\n",
              "    <tr>\n",
              "      <th>2</th>\n",
              "      <td>Jul 29, 2017</td>\n",
              "      <td>2807.02</td>\n",
              "      <td>2808.76</td>\n",
              "      <td>2692.80</td>\n",
              "      <td>2726.45</td>\n",
              "      <td>803,746,000</td>\n",
              "      <td>46,246,700,000</td>\n",
              "      <td>2763.24</td>\n",
              "    </tr>\n",
              "    <tr>\n",
              "      <th>3</th>\n",
              "      <td>Jul 28, 2017</td>\n",
              "      <td>2679.73</td>\n",
              "      <td>2897.45</td>\n",
              "      <td>2679.73</td>\n",
              "      <td>2809.01</td>\n",
              "      <td>1,380,100,000</td>\n",
              "      <td>44,144,400,000</td>\n",
              "      <td>2724.39</td>\n",
              "    </tr>\n",
              "    <tr>\n",
              "      <th>4</th>\n",
              "      <td>Jul 27, 2017</td>\n",
              "      <td>2538.71</td>\n",
              "      <td>2693.32</td>\n",
              "      <td>2529.34</td>\n",
              "      <td>2671.78</td>\n",
              "      <td>789,104,000</td>\n",
              "      <td>41,816,500,000</td>\n",
              "      <td>2807.02</td>\n",
              "    </tr>\n",
              "    <tr>\n",
              "      <th>5</th>\n",
              "      <td>Jul 26, 2017</td>\n",
              "      <td>2577.77</td>\n",
              "      <td>2610.76</td>\n",
              "      <td>2450.80</td>\n",
              "      <td>2529.45</td>\n",
              "      <td>937,404,000</td>\n",
              "      <td>42,455,000,000</td>\n",
              "      <td>2679.73</td>\n",
              "    </tr>\n",
              "    <tr>\n",
              "      <th>6</th>\n",
              "      <td>Jul 25, 2017</td>\n",
              "      <td>2757.50</td>\n",
              "      <td>2768.08</td>\n",
              "      <td>2480.96</td>\n",
              "      <td>2576.48</td>\n",
              "      <td>1,460,090,000</td>\n",
              "      <td>45,410,100,000</td>\n",
              "      <td>2538.71</td>\n",
              "    </tr>\n",
              "    <tr>\n",
              "      <th>...</th>\n",
              "      <td>...</td>\n",
              "      <td>...</td>\n",
              "      <td>...</td>\n",
              "      <td>...</td>\n",
              "      <td>...</td>\n",
              "      <td>...</td>\n",
              "      <td>...</td>\n",
              "      <td>...</td>\n",
              "    </tr>\n",
              "    <tr>\n",
              "      <th>1551</th>\n",
              "      <td>May 02, 2013</td>\n",
              "      <td>116.38</td>\n",
              "      <td>125.60</td>\n",
              "      <td>92.28</td>\n",
              "      <td>105.21</td>\n",
              "      <td>-</td>\n",
              "      <td>1,292,190,000</td>\n",
              "      <td>98.10</td>\n",
              "    </tr>\n",
              "    <tr>\n",
              "      <th>1552</th>\n",
              "      <td>May 01, 2013</td>\n",
              "      <td>139.00</td>\n",
              "      <td>139.89</td>\n",
              "      <td>107.72</td>\n",
              "      <td>116.99</td>\n",
              "      <td>-</td>\n",
              "      <td>1,542,820,000</td>\n",
              "      <td>106.25</td>\n",
              "    </tr>\n",
              "    <tr>\n",
              "      <th>1553</th>\n",
              "      <td>Apr 30, 2013</td>\n",
              "      <td>144.00</td>\n",
              "      <td>146.93</td>\n",
              "      <td>134.05</td>\n",
              "      <td>139.00</td>\n",
              "      <td>-</td>\n",
              "      <td>1,597,780,000</td>\n",
              "      <td>116.38</td>\n",
              "    </tr>\n",
              "    <tr>\n",
              "      <th>1554</th>\n",
              "      <td>Apr 29, 2013</td>\n",
              "      <td>134.44</td>\n",
              "      <td>147.49</td>\n",
              "      <td>134.00</td>\n",
              "      <td>144.54</td>\n",
              "      <td>-</td>\n",
              "      <td>1,491,160,000</td>\n",
              "      <td>139.00</td>\n",
              "    </tr>\n",
              "    <tr>\n",
              "      <th>1555</th>\n",
              "      <td>Apr 28, 2013</td>\n",
              "      <td>135.30</td>\n",
              "      <td>135.98</td>\n",
              "      <td>132.10</td>\n",
              "      <td>134.21</td>\n",
              "      <td>-</td>\n",
              "      <td>1,500,520,000</td>\n",
              "      <td>144.00</td>\n",
              "    </tr>\n",
              "  </tbody>\n",
              "</table>\n",
              "<p>1554 rows × 8 columns</p>\n",
              "</div>\n",
              "      <button class=\"colab-df-convert\" onclick=\"convertToInteractive('df-06aedafb-b032-4c45-b6f0-af696d8d0e83')\"\n",
              "              title=\"Convert this dataframe to an interactive table.\"\n",
              "              style=\"display:none;\">\n",
              "        \n",
              "  <svg xmlns=\"http://www.w3.org/2000/svg\" height=\"24px\"viewBox=\"0 0 24 24\"\n",
              "       width=\"24px\">\n",
              "    <path d=\"M0 0h24v24H0V0z\" fill=\"none\"/>\n",
              "    <path d=\"M18.56 5.44l.94 2.06.94-2.06 2.06-.94-2.06-.94-.94-2.06-.94 2.06-2.06.94zm-11 1L8.5 8.5l.94-2.06 2.06-.94-2.06-.94L8.5 2.5l-.94 2.06-2.06.94zm10 10l.94 2.06.94-2.06 2.06-.94-2.06-.94-.94-2.06-.94 2.06-2.06.94z\"/><path d=\"M17.41 7.96l-1.37-1.37c-.4-.4-.92-.59-1.43-.59-.52 0-1.04.2-1.43.59L10.3 9.45l-7.72 7.72c-.78.78-.78 2.05 0 2.83L4 21.41c.39.39.9.59 1.41.59.51 0 1.02-.2 1.41-.59l7.78-7.78 2.81-2.81c.8-.78.8-2.07 0-2.86zM5.41 20L4 18.59l7.72-7.72 1.47 1.35L5.41 20z\"/>\n",
              "  </svg>\n",
              "      </button>\n",
              "      \n",
              "  <style>\n",
              "    .colab-df-container {\n",
              "      display:flex;\n",
              "      flex-wrap:wrap;\n",
              "      gap: 12px;\n",
              "    }\n",
              "\n",
              "    .colab-df-convert {\n",
              "      background-color: #E8F0FE;\n",
              "      border: none;\n",
              "      border-radius: 50%;\n",
              "      cursor: pointer;\n",
              "      display: none;\n",
              "      fill: #1967D2;\n",
              "      height: 32px;\n",
              "      padding: 0 0 0 0;\n",
              "      width: 32px;\n",
              "    }\n",
              "\n",
              "    .colab-df-convert:hover {\n",
              "      background-color: #E2EBFA;\n",
              "      box-shadow: 0px 1px 2px rgba(60, 64, 67, 0.3), 0px 1px 3px 1px rgba(60, 64, 67, 0.15);\n",
              "      fill: #174EA6;\n",
              "    }\n",
              "\n",
              "    [theme=dark] .colab-df-convert {\n",
              "      background-color: #3B4455;\n",
              "      fill: #D2E3FC;\n",
              "    }\n",
              "\n",
              "    [theme=dark] .colab-df-convert:hover {\n",
              "      background-color: #434B5C;\n",
              "      box-shadow: 0px 1px 3px 1px rgba(0, 0, 0, 0.15);\n",
              "      filter: drop-shadow(0px 1px 2px rgba(0, 0, 0, 0.3));\n",
              "      fill: #FFFFFF;\n",
              "    }\n",
              "  </style>\n",
              "\n",
              "      <script>\n",
              "        const buttonEl =\n",
              "          document.querySelector('#df-06aedafb-b032-4c45-b6f0-af696d8d0e83 button.colab-df-convert');\n",
              "        buttonEl.style.display =\n",
              "          google.colab.kernel.accessAllowed ? 'block' : 'none';\n",
              "\n",
              "        async function convertToInteractive(key) {\n",
              "          const element = document.querySelector('#df-06aedafb-b032-4c45-b6f0-af696d8d0e83');\n",
              "          const dataTable =\n",
              "            await google.colab.kernel.invokeFunction('convertToInteractive',\n",
              "                                                     [key], {});\n",
              "          if (!dataTable) return;\n",
              "\n",
              "          const docLinkHtml = 'Like what you see? Visit the ' +\n",
              "            '<a target=\"_blank\" href=https://colab.research.google.com/notebooks/data_table.ipynb>data table notebook</a>'\n",
              "            + ' to learn more about interactive tables.';\n",
              "          element.innerHTML = '';\n",
              "          dataTable['output_type'] = 'display_data';\n",
              "          await google.colab.output.renderOutput(dataTable, element);\n",
              "          const docLink = document.createElement('div');\n",
              "          docLink.innerHTML = docLinkHtml;\n",
              "          element.appendChild(docLink);\n",
              "        }\n",
              "      </script>\n",
              "    </div>\n",
              "  </div>\n",
              "  "
            ]
          },
          "metadata": {},
          "execution_count": 47
        }
      ]
    },
    {
      "cell_type": "code",
      "source": [
        "X= df['Open'].to_numpy().reshape(-1, 1)\n",
        "Y= df['open_pred'].to_numpy()"
      ],
      "metadata": {
        "id": "0B3obnuUMtis"
      },
      "execution_count": 48,
      "outputs": []
    },
    {
      "cell_type": "code",
      "source": [
        "from sklearn.model_selection import train_test_split as tts\n",
        "x_train, x_test, y_train, y_test= tts(X,Y, test_size=0.2)"
      ],
      "metadata": {
        "id": "_40ySvTpM9X8"
      },
      "execution_count": 49,
      "outputs": []
    },
    {
      "cell_type": "code",
      "source": [
        "from sklearn.svm import SVR \n",
        "svr_rbf= SVR(kernel='rbf',C=1e3, gamma=0.00001)\n",
        "svr_rbf.fit(x_train,y_train)"
      ],
      "metadata": {
        "colab": {
          "base_uri": "https://localhost:8080/"
        },
        "id": "sTbj6icrNe7E",
        "outputId": "ddef0286-2a83-46a3-830d-78efaf9dce5f"
      },
      "execution_count": 50,
      "outputs": [
        {
          "output_type": "execute_result",
          "data": {
            "text/plain": [
              "SVR(C=1000.0, gamma=1e-05)"
            ]
          },
          "metadata": {},
          "execution_count": 50
        }
      ]
    },
    {
      "cell_type": "code",
      "source": [
        "y_pred=svr_rbf.predict(x_test)\n",
        "from sklearn.metrics import mean_absolute_percentage_error\n",
        "\n",
        "print(mean_absolute_percentage_error(y_pred,y_test))"
      ],
      "metadata": {
        "colab": {
          "base_uri": "https://localhost:8080/"
        },
        "id": "MxFtBt3dOOY8",
        "outputId": "1cd46958-76ab-479a-b1ce-f4367d1d5df2"
      },
      "execution_count": 51,
      "outputs": [
        {
          "output_type": "stream",
          "name": "stdout",
          "text": [
            "0.04376705109135468\n"
          ]
        }
      ]
    },
    {
      "cell_type": "code",
      "source": [
        "from sklearn.metrics import mean_squared_error\n",
        "print(mean_squared_error(y_pred,y_test))"
      ],
      "metadata": {
        "colab": {
          "base_uri": "https://localhost:8080/"
        },
        "id": "c19vZoO6Wvg0",
        "outputId": "599523ca-0ae8-4ebe-f986-c7a14910067f"
      },
      "execution_count": 61,
      "outputs": [
        {
          "output_type": "stream",
          "name": "stdout",
          "text": [
            "3551.592055449704\n"
          ]
        }
      ]
    },
    {
      "cell_type": "code",
      "source": [
        "from sklearn.metrics import mean_absolute_error\n",
        "print(mean_absolute_error(y_pred,y_test))"
      ],
      "metadata": {
        "colab": {
          "base_uri": "https://localhost:8080/"
        },
        "id": "VV58Ulv9XMMs",
        "outputId": "afd89408-524d-4423-b3e4-f6cb03c28f59"
      },
      "execution_count": 62,
      "outputs": [
        {
          "output_type": "stream",
          "name": "stdout",
          "text": [
            "27.174058622569476\n"
          ]
        }
      ]
    },
    {
      "cell_type": "code",
      "source": [
        "plt.scatter(y_pred,y_test)\n",
        "plt.plot(y_pred,y_pred, c='r')"
      ],
      "metadata": {
        "colab": {
          "base_uri": "https://localhost:8080/",
          "height": 285
        },
        "id": "oaGafSAGTPpW",
        "outputId": "07c80ffc-4f51-44c0-fc1d-b42a530c7d1b"
      },
      "execution_count": 58,
      "outputs": [
        {
          "output_type": "execute_result",
          "data": {
            "text/plain": [
              "[<matplotlib.lines.Line2D at 0x7ff7ce6b2290>]"
            ]
          },
          "metadata": {},
          "execution_count": 58
        },
        {
          "output_type": "display_data",
          "data": {
            "text/plain": [
              "<Figure size 432x288 with 1 Axes>"
            ],
            "image/png": "[encoded data removed]"
          },
          "metadata": {}
        }
      ]
    },
    {
      "cell_type": "code",
      "source": [
        "from sklearn.neighbors import KNeighborsRegressor\n",
        "neigh = KNeighborsRegressor(n_neighbors=2)\n",
        "neigh.fit(x_train, y_train)\n",
        "y_pred= neigh.predict(x_test)"
      ],
      "metadata": {
        "id": "OuVNzmsKXfEA"
      },
      "execution_count": 64,
      "outputs": []
    },
    {
      "cell_type": "code",
      "source": [
        "print(mean_absolute_percentage_error(y_test, y_pred))"
      ],
      "metadata": {
        "colab": {
          "base_uri": "https://localhost:8080/"
        },
        "id": "xaJEk9YKX68j",
        "outputId": "c9b72005-1159-46ef-ebd6-35f52d008503"
      },
      "execution_count": 65,
      "outputs": [
        {
          "output_type": "stream",
          "name": "stdout",
          "text": [
            "0.05397182395022875\n"
          ]
        }
      ]
    },
    {
      "cell_type": "code",
      "source": [
        "print(mean_absolute_error(y_test, y_pred))"
      ],
      "metadata": {
        "colab": {
          "base_uri": "https://localhost:8080/"
        },
        "id": "2Rg6E0UsYDuJ",
        "outputId": "52d86ca2-11dd-4b67-c40c-38f2610abaa7"
      },
      "execution_count": 66,
      "outputs": [
        {
          "output_type": "stream",
          "name": "stdout",
          "text": [
            "32.904758842443734\n"
          ]
        }
      ]
    },
    {
      "cell_type": "code",
      "source": [
        "print(mean_squared_error(y_test, y_pred))"
      ],
      "metadata": {
        "colab": {
          "base_uri": "https://localhost:8080/"
        },
        "id": "lcxWvxaSYLdP",
        "outputId": "f1f5e685-4d30-40cb-b1e2-4d52c8d9c0fd"
      },
      "execution_count": 67,
      "outputs": [
        {
          "output_type": "stream",
          "name": "stdout",
          "text": [
            "4223.793566398715\n"
          ]
        }
      ]
    },
    {
      "cell_type": "code",
      "source": [
        "plt.scatter(y_pred,y_test)\n",
        "plt.plot(y_pred,y_pred, c='r')"
      ],
      "metadata": {
        "colab": {
          "base_uri": "https://localhost:8080/",
          "height": 285
        },
        "id": "CPfbirldaXdN",
        "outputId": "ec47ab0a-ae3d-4b12-e47b-0b2f184df5c8"
      },
      "execution_count": 68,
      "outputs": [
        {
          "output_type": "execute_result",
          "data": {
            "text/plain": [
              "[<matplotlib.lines.Line2D at 0x7ff7c884d190>]"
            ]
          },
          "metadata": {},
          "execution_count": 68
        },
        {
          "output_type": "display_data",
          "data": {
            "text/plain": [
              "<Figure size 432x288 with 1 Axes>"
            ],
            "image/png": "[encoded data removed]"
          },
          "metadata": {}
        }
      ]
    },
    {
      "cell_type": "code",
      "source": [
        "from sklearn.ensemble import RandomForestRegressor\n",
        "regr = RandomForestRegressor(max_depth=2, random_state=0)\n",
        "regr.fit(x_train,y_train)\n",
        "y_pred= regr.predict(x_test)"
      ],
      "metadata": {
        "id": "rvnLlp4RaUkb"
      },
      "execution_count": 69,
      "outputs": []
    },
    {
      "cell_type": "code",
      "source": [
        "print(mean_absolute_percentage_error(y_test, y_pred))"
      ],
      "metadata": {
        "colab": {
          "base_uri": "https://localhost:8080/"
        },
        "id": "-BwL7BLva3mF",
        "outputId": "e1522b65-4af8-4e54-fbdc-a3e307d34edb"
      },
      "execution_count": 70,
      "outputs": [
        {
          "output_type": "stream",
          "name": "stdout",
          "text": [
            "0.41482199268306835\n"
          ]
        }
      ]
    },
    {
      "cell_type": "code",
      "source": [
        "print(mean_absolute_error(y_test, y_pred))"
      ],
      "metadata": {
        "colab": {
          "base_uri": "https://localhost:8080/"
        },
        "id": "yfuymWXJa8fM",
        "outputId": "3ae86a17-34a7-4e8e-e604-b16e30682529"
      },
      "execution_count": 71,
      "outputs": [
        {
          "output_type": "stream",
          "name": "stdout",
          "text": [
            "131.93628687272542\n"
          ]
        }
      ]
    },
    {
      "cell_type": "code",
      "source": [
        "print(mean_squared_error(y_test,y_pred))"
      ],
      "metadata": {
        "colab": {
          "base_uri": "https://localhost:8080/"
        },
        "id": "vjHjeE-mbHIi",
        "outputId": "186808ba-6643-4348-d7aa-84d31ed86c80"
      },
      "execution_count": 72,
      "outputs": [
        {
          "output_type": "stream",
          "name": "stdout",
          "text": [
            "26374.287467909886\n"
          ]
        }
      ]
    },
    {
      "cell_type": "markdown",
      "source": [
        "## Model Comparison"
      ],
      "metadata": {
        "id": "y4R_j0r5bmjO"
      }
    },
    {
      "cell_type": "code",
      "source": [
        "from tabulate import tabulate\n",
        "data=[['MEAN ABSOLUTE PERCENTAGE ERROR',0.0437,0.0539,0.4148],\n",
        "      ['MEAN ABSOLUTE ERROR',27.17,32.90,131.93],\n",
        "      ['MEAN SQUARED ERROR',3551.5,4223.7,26374.2]\n",
        "      ]\n",
        "head=['Metrics','SVR','KNN','RandomForest']\n",
        "print(tabulate(data, headers=head, tablefmt=\"grid\"))"
      ],
      "metadata": {
        "colab": {
          "base_uri": "https://localhost:8080/"
        },
        "id": "DJJDEQb8bpzg",
        "outputId": "232149b9-11ac-4d5a-bdd7-1331c2ffd137"
      },
      "execution_count": 77,
      "outputs": [
        {
          "output_type": "stream",
          "name": "stdout",
          "text": [
            "+--------------------------------+-----------+-----------+----------------+\n",
            "| Metrics                        |       SVR |       KNN |   RandomForest |\n",
            "+================================+===========+===========+================+\n",
            "| MEAN ABSOLUTE PERCENTAGE ERROR |    0.0437 |    0.0539 |         0.4148 |\n",
            "+--------------------------------+-----------+-----------+----------------+\n",
            "| MEAN ABSOLUTE ERROR            |   27.17   |   32.9    |       131.93   |\n",
            "+--------------------------------+-----------+-----------+----------------+\n",
            "| MEAN SQUARED ERROR             | 3551.5    | 4223.7    |     26374.2    |\n",
            "+--------------------------------+-----------+-----------+----------------+\n"
          ]
        }
      ]
    },
    {
      "cell_type": "markdown",
      "source": [
        "## Function to Predict Open Price on a Particular Date"
      ],
      "metadata": {
        "id": "P44WlTDuaKy2"
      }
    },
    {
      "cell_type": "code",
      "source": [
        "ope= svr_rbf.predict(np.array(2763.24).reshape(-1, 1))"
      ],
      "metadata": {
        "id": "kdD8n4OHQUX_"
      },
      "execution_count": 53,
      "outputs": []
    },
    {
      "cell_type": "code",
      "source": [
        "if num<0:\n",
        "  print(df['Open'][-num])\n",
        "elif num>1500:\n",
        "  print(\"duration limit exceeded\")\n",
        "else:\n",
        "  print(ope)"
      ],
      "metadata": {
        "colab": {
          "base_uri": "https://localhost:8080/"
        },
        "id": "ptEweJErKT5j",
        "outputId": "a8cebe98-d154-4fde-f868-31dde063c044"
      },
      "execution_count": 54,
      "outputs": [
        {
          "output_type": "stream",
          "name": "stdout",
          "text": [
            "[2722.05151051]\n"
          ]
        }
      ]
    }
  ]
}